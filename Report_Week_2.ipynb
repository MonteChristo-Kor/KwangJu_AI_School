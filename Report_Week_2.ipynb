{
  "nbformat": 4,
  "nbformat_minor": 0,
  "metadata": {
    "colab": {
      "name": "Report_Week_2",
      "provenance": [],
      "collapsed_sections": [],
      "authorship_tag": "ABX9TyPEQmh3QKg/j/q+18exMlRZ",
      "include_colab_link": true
    },
    "kernelspec": {
      "name": "python3",
      "display_name": "Python 3"
    }
  },
  "cells": [
    {
      "cell_type": "markdown",
      "metadata": {
        "id": "view-in-github",
        "colab_type": "text"
      },
      "source": [
        "<a href=\"https://colab.research.google.com/github/MonteChristo-Kor/KwangJu_AI_School/blob/master/Report_Week_2.ipynb\" target=\"_parent\"><img src=\"https://colab.research.google.com/assets/colab-badge.svg\" alt=\"Open In Colab\"/></a>"
      ]
    },
    {
      "cell_type": "markdown",
      "metadata": {
        "id": "-6seJM-XWkV6",
        "colab_type": "text"
      },
      "source": [
        "# **광주 인공지능 사관학교 2주차 과제**\n",
        "## **01번 문제 (Data Type)**\n",
        "다음 변수 a, 변수 b, 변수 c의 자료형을 출력하세요."
      ]
    },
    {
      "cell_type": "code",
      "metadata": {
        "id": "_AuEWPKFWqeG",
        "colab_type": "code",
        "outputId": "e045d7c4-0d76-4946-a073-0c20e97726ee",
        "colab": {
          "base_uri": "https://localhost:8080/",
          "height": 71
        }
      },
      "source": [
        "# 주어진 변수(a, b, c) 직접 수정불가\n",
        "a = 'str'\n",
        "b = 123\n",
        "c = True\n",
        "\n",
        "\n",
        "print(\"변수 a의 Type : \" + str(type(a))+ \"\\n변수 b의 Type : \" + str(type(b)) + \"\\n변수 c의 type : \" + str(type(c)))"
      ],
      "execution_count": 0,
      "outputs": [
        {
          "output_type": "stream",
          "text": [
            "변수 a의 Type : <class 'str'>\n",
            "변수 b의 Type : <class 'int'>\n",
            "변수 c의 type : <class 'bool'>\n"
          ],
          "name": "stdout"
        }
      ]
    },
    {
      "cell_type": "markdown",
      "metadata": {
        "id": "-DiiKagtX5lc",
        "colab_type": "text"
      },
      "source": [
        "## **02번 문제 (for문)**\n",
        "다음 변수 num_list에 있는 요소를 모두 더한 값을 for문을 활용하여 변수 answer에 저장하고 그 값을 출력하세요."
      ]
    },
    {
      "cell_type": "code",
      "metadata": {
        "id": "enkPbPGkYL7b",
        "colab_type": "code",
        "outputId": "e3fa89d6-d9c6-4187-f8eb-554fce543b2d",
        "colab": {
          "base_uri": "https://localhost:8080/",
          "height": 35
        }
      },
      "source": [
        "# 주어진 변수(num_list) 직접 수정 불가\n",
        "# for문을 사용 하지 않은 경우 오답처리\n",
        "num_list = [1,2,3,4,5,6,7,8,9]\n",
        "answer = 0\n",
        "\n",
        "for num in num_list : \n",
        "  answer += num\n",
        "\n",
        "print(answer)"
      ],
      "execution_count": 0,
      "outputs": [
        {
          "output_type": "stream",
          "text": [
            "45\n"
          ],
          "name": "stdout"
        }
      ]
    },
    {
      "cell_type": "markdown",
      "metadata": {
        "id": "sQhzh5JSZEr9",
        "colab_type": "text"
      },
      "source": [
        "## **03번 문제 (slice string)**\n",
        "다음 변수 date를 슬라이스해서 year(년), month(월), day(일)를 각각 출력하세요. (출력 : 2020 05 11)\n",
        "\n",
        "(tip: None을 지우고 date를 슬라이싱해서 각각의 데이터를 저장하세요!)"
      ]
    },
    {
      "cell_type": "code",
      "metadata": {
        "id": "qvaFXgjoZO_J",
        "colab_type": "code",
        "outputId": "d5077ba7-f863-4df3-9107-436325f51dde",
        "colab": {
          "base_uri": "https://localhost:8080/",
          "height": 35
        }
      },
      "source": [
        "# 주어진 변수(date)만 직접 수정불가, 다른 year, month, day 변수는 직접 수정가능\n",
        "# 슬라이스를 사용 안 할 경우 오답처리\n",
        "date = '20200511'\n",
        "\n",
        "year = date[:4]\n",
        "month = date[4:6]\n",
        "day = date[-2:]\n",
        "\n",
        "print(year, month, day)"
      ],
      "execution_count": 0,
      "outputs": [
        {
          "output_type": "stream",
          "text": [
            "2020 05 11\n"
          ],
          "name": "stdout"
        }
      ]
    },
    {
      "cell_type": "markdown",
      "metadata": {
        "id": "yv43riVnaDkF",
        "colab_type": "text"
      },
      "source": [
        "## **04번 문제(for)**\n",
        "다음 변수 summary에 1 부터 100까지 모두 더한 값을 저장하여 출력하세요."
      ]
    },
    {
      "cell_type": "code",
      "metadata": {
        "id": "hOg7VosCaJzD",
        "colab_type": "code",
        "colab": {}
      },
      "source": [
        "# 주어진 변수(summary) 직접 수정불가\n",
        "summary = 0\n",
        "\n",
        "for num in range(1,101) :\n",
        "  summary += num\n",
        "\n",
        "print(summary)"
      ],
      "execution_count": 0,
      "outputs": []
    },
    {
      "cell_type": "markdown",
      "metadata": {
        "id": "O03ZlhYFay4X",
        "colab_type": "text"
      },
      "source": [
        "## **05번 문제(string reverse)**\n",
        "다음 변수 hangul의 문자열을 거꾸로 출력하세요. (출력:‘사바마라다나가’)"
      ]
    },
    {
      "cell_type": "code",
      "metadata": {
        "id": "LHanLjHda4oA",
        "colab_type": "code",
        "outputId": "39bcb923-9a23-4664-b168-dd42eceda3e7",
        "colab": {
          "base_uri": "https://localhost:8080/",
          "height": 35
        }
      },
      "source": [
        "# 주어진 변수(hangul) 직접 수정불가\n",
        "hangul = '가나다라마바사'\n",
        "\n",
        "\n",
        "# 출력\n",
        "print(hangul[::-1])"
      ],
      "execution_count": 0,
      "outputs": [
        {
          "output_type": "stream",
          "text": [
            "사바마라다나가\n"
          ],
          "name": "stdout"
        }
      ]
    },
    {
      "cell_type": "markdown",
      "metadata": {
        "id": "F6zYS-BjgvhW",
        "colab_type": "text"
      },
      "source": [
        "## **06번 문제(str -> list -> int 변환)**\n",
        "다음 변수 num에는 공백으로 구분된 4개의 점수가 들어 있습니다. 평균을 구해서 출력하세요."
      ]
    },
    {
      "cell_type": "code",
      "metadata": {
        "id": "PaCL2dMwg2EZ",
        "colab_type": "code",
        "outputId": "ac89975a-8f1a-4df2-b13e-af580b3cd9f2",
        "colab": {
          "base_uri": "https://localhost:8080/",
          "height": 35
        }
      },
      "source": [
        "# 주어진 변수(num) 직접 수정불가\n",
        "num = \"70 50 90 70\"\n",
        "num_list = num.split()\n",
        "num_list = list(map(int, num_list))\n",
        "num = sum(num_list) / len(num_list)\n",
        "\n",
        "#출력\n",
        "print(num)"
      ],
      "execution_count": 0,
      "outputs": [
        {
          "output_type": "stream",
          "text": [
            "70.0\n"
          ],
          "name": "stdout"
        }
      ]
    },
    {
      "cell_type": "markdown",
      "metadata": {
        "id": "OfIAbJmOku8h",
        "colab_type": "text"
      },
      "source": [
        "## **07번 문제(if문)**\n",
        "다음 변수 n에 입력한 값이 짝수 일 경우 ‘짝수’를, 짝수가 아닐 경우 ‘짝수가 아닙니다’를 판별하여 출력하세요. (출력: 짝수 or 짝수가 아닙니다)"
      ]
    },
    {
      "cell_type": "code",
      "metadata": {
        "id": "mHzFvHNMkzxe",
        "colab_type": "code",
        "colab": {}
      },
      "source": [
        "# 주어진 변수(n) 직접 수정불가\n",
        "n = int(input('숫자를 입력해주세요 : '))\n",
        "\n",
        "\n",
        "#출력\n",
        "if n % 2 == 0 : \n",
        "  print(\"짝수\")\n",
        "\n",
        "else :\n",
        "  print(\"짝수가 아닙니다.\")\n"
      ],
      "execution_count": 0,
      "outputs": []
    },
    {
      "cell_type": "markdown",
      "metadata": {
        "id": "g0GQPYtclMq6",
        "colab_type": "text"
      },
      "source": [
        "## **08번 문제(산술 연산 및 list index)**\n",
        "직사각형의 대각선의 길이를 구하는 공식은 밑변의 제곱 + 높이의 제곱 = 대각선의 제곱이다.\n",
        "\n",
        "다음 변수 list_08에는 하나의 직사각형의 밑변과 높이가 저장되어 있습니다.\n",
        "\n",
        "각각 밑변이 3이고 높이가 4일 때, 직사각형의 대각선의 제곱의 길이를 출력하세요."
      ]
    },
    {
      "cell_type": "code",
      "metadata": {
        "id": "sHm76wRelVbG",
        "colab_type": "code",
        "outputId": "049c444b-ee4c-46ad-85d0-517a62685916",
        "colab": {
          "base_uri": "https://localhost:8080/",
          "height": 35
        }
      },
      "source": [
        "# 주어진 변수(list_08) 직접 수정불가\n",
        "list_08 = [3, 4]\n",
        "square_dia = (list_08[0]**2) + (list_08[1]**2)\n",
        "\n",
        "# 출력\n",
        "print(\"직사각형의 대각선 길이 : \" + str(square_dia))"
      ],
      "execution_count": 0,
      "outputs": [
        {
          "output_type": "stream",
          "text": [
            "직사각형의 대각선 길이 : 25\n"
          ],
          "name": "stdout"
        }
      ]
    },
    {
      "cell_type": "markdown",
      "metadata": {
        "id": "M9bZuDsUmFYy",
        "colab_type": "text"
      },
      "source": [
        "## **09번 문제(소수 판별 프로그램)**\n",
        "입력받은 숫자가 소수인지 아닌지 출력하는 프로그램을 작성 해 주세요. (출력 : 소수 or 소수가 아닙니다)"
      ]
    },
    {
      "cell_type": "code",
      "metadata": {
        "id": "4BFIDqmLmLh9",
        "colab_type": "code",
        "outputId": "4dc9a56d-c6ff-4563-ee27-f221372527a0",
        "colab": {
          "base_uri": "https://localhost:8080/",
          "height": 53
        }
      },
      "source": [
        "# 주어진 변수(num_10) 직접 수정불가\n",
        "# 함수(prime_number) 직접 수정가능\n",
        "num_10 = int(input('숫자를 입력해주세요'))\n",
        "\n",
        "def prime_number(n):\n",
        "    active = True\n",
        "    for num in range (2, n-1) :\n",
        "      if n % num == 0 :\n",
        "        print(\"소수가 아닙니다\")\n",
        "        break\n",
        "      else :\n",
        "        print(\"소수\") \n",
        "        break\n",
        "\n",
        "prime_number(num_10)"
      ],
      "execution_count": 0,
      "outputs": [
        {
          "output_type": "stream",
          "text": [
            "숫자를 입력해주세요13\n",
            "소수\n"
          ],
          "name": "stdout"
        }
      ]
    },
    {
      "cell_type": "markdown",
      "metadata": {
        "id": "FeZhGzM9rjw4",
        "colab_type": "text"
      },
      "source": [
        "# **인공지능 수학 문제**"
      ]
    },
    {
      "cell_type": "markdown",
      "metadata": {
        "id": "F7WkKxCKoa0b",
        "colab_type": "text"
      },
      "source": [
        "## **1번 문제 (Hypothesis)**\n",
        "다음 공식은 Hypothesis를 구하는 공식입니다. 다음과 같이 값이 주어졌을때 H(x)의 값을 구하시오.\n",
        "\n",
        "W = 3\n",
        "\n",
        "x = 10\n",
        "\n",
        "b = 1"
      ]
    },
    {
      "cell_type": "markdown",
      "metadata": {
        "id": "9ky-ID9ro4gn",
        "colab_type": "text"
      },
      "source": [
        "# $$h(x) = Wx + b$$"
      ]
    },
    {
      "cell_type": "markdown",
      "metadata": {
        "id": "3pd0AoDfo9b0",
        "colab_type": "text"
      },
      "source": [
        "#### 정답 : 31"
      ]
    },
    {
      "cell_type": "markdown",
      "metadata": {
        "id": "pgcUucjnpYOD",
        "colab_type": "text"
      },
      "source": [
        "## **2번 문제 (Cost function)**\n",
        "다음 공식은 Cost를 구하는 공식입니다. 다음과 같이 값이 주어졌을때 cost의 값을 구하세요.\n",
        "\n",
        "W = 2\n",
        "\n",
        "x = [2, 4, 8]\n",
        "\n",
        "y = [5, 12, 21]\n",
        "\n",
        "(tip: x1=2, y1=5 / x2=4, y2=12 / x3=8, y3=21)"
      ]
    },
    {
      "cell_type": "markdown",
      "metadata": {
        "id": "nyHzRIxJpdOd",
        "colab_type": "text"
      },
      "source": [
        "# $$cost(W) =  \\frac{1}{n}\\sum_{i=1}^n (Wx^{(i)}-y^{(i)})^2$$"
      ]
    },
    {
      "cell_type": "markdown",
      "metadata": {
        "id": "iqz2Hzwipl7F",
        "colab_type": "text"
      },
      "source": [
        "#### 정답 : 14"
      ]
    },
    {
      "cell_type": "markdown",
      "metadata": {
        "id": "TIcLRB6nrwlA",
        "colab_type": "text"
      },
      "source": [
        "## 3번 문제 (Logistic regression sigmoid function)\n",
        "\n",
        "다음 공식은 로지스틱 시그모이드 함수입니다. x가 __양의 무한대로__ 갈때 f(x)가 수렴하는 값을 구하세요.\n",
        "\n",
        "![대체 텍스트](https://prwatech.in/blog/wp-content/uploads/2020/02/logi3.png)"
      ]
    },
    {
      "cell_type": "markdown",
      "metadata": {
        "id": "-31DGucyr2FH",
        "colab_type": "text"
      },
      "source": [
        "#### 정답 : 1"
      ]
    }
  ]
}